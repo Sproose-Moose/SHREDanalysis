{
 "cells": [
  {
   "cell_type": "code",
   "execution_count": 1,
   "id": "45547f8d-1b48-4f1f-a37d-e952f4ddaa63",
   "metadata": {},
   "outputs": [
    {
     "name": "stdout",
     "output_type": "stream",
     "text": [
      "Requirement already satisfied: openpyxl in /Users/sethgerow/Library/jupyterlab-desktop/jlab_server/lib/python3.8/site-packages (3.1.2)\n",
      "Requirement already satisfied: et-xmlfile in /Users/sethgerow/Library/jupyterlab-desktop/jlab_server/lib/python3.8/site-packages (from openpyxl) (1.1.0)\n",
      "Note: you may need to restart the kernel to use updated packages.\n"
     ]
    }
   ],
   "source": [
    "pip install openpyxl"
   ]
  },
  {
   "cell_type": "code",
   "execution_count": 2,
   "id": "4cc07a04-605f-4dad-8eb7-1f316c62a0c2",
   "metadata": {},
   "outputs": [
    {
     "name": "stdout",
     "output_type": "stream",
     "text": [
      "Requirement already satisfied: numpy in /Users/sethgerow/Library/jupyterlab-desktop/jlab_server/lib/python3.8/site-packages (1.24.4)\n",
      "Note: you may need to restart the kernel to use updated packages.\n"
     ]
    }
   ],
   "source": [
    "pip install numpy"
   ]
  },
  {
   "cell_type": "code",
   "execution_count": 10,
   "id": "3a2f52e6-fbf1-4b9e-bfe6-1a1ebfc67dcf",
   "metadata": {},
   "outputs": [
    {
     "name": "stdout",
     "output_type": "stream",
     "text": [
      "Collecting pandastable\n",
      "  Downloading pandastable-0.13.1.tar.gz (241 kB)\n",
      "\u001b[2K     \u001b[90m━━━━━━━━━━━━━━━━━━━━━━━━━━━━━━━━━━━━━━━\u001b[0m \u001b[32m241.5/241.5 kB\u001b[0m \u001b[31m3.7 MB/s\u001b[0m eta \u001b[36m0:00:00\u001b[0ma \u001b[36m0:00:01\u001b[0m\n",
      "\u001b[?25h  Preparing metadata (setup.py) ... \u001b[?25ldone\n",
      "\u001b[?25hRequirement already satisfied: matplotlib>=3.0 in /Users/sethgerow/Library/jupyterlab-desktop/jlab_server/lib/python3.8/site-packages (from pandastable) (3.7.3)\n",
      "Requirement already satisfied: pandas>=1.5 in /Users/sethgerow/Library/jupyterlab-desktop/jlab_server/lib/python3.8/site-packages (from pandastable) (2.0.3)\n",
      "Collecting numexpr>=2.4 (from pandastable)\n",
      "  Downloading numexpr-2.8.6-cp38-cp38-macosx_11_0_arm64.whl.metadata (8.0 kB)\n",
      "Collecting xlrd>=0.9 (from pandastable)\n",
      "  Downloading xlrd-2.0.1-py2.py3-none-any.whl (96 kB)\n",
      "\u001b[2K     \u001b[90m━━━━━━━━━━━━━━━━━━━━━━━━━━━━━━━━━━━━━━━━\u001b[0m \u001b[32m96.5/96.5 kB\u001b[0m \u001b[31m1.1 MB/s\u001b[0m eta \u001b[36m0:00:00\u001b[0ma \u001b[36m0:00:01\u001b[0m\n",
      "\u001b[?25hCollecting future (from pandastable)\n",
      "  Downloading future-0.18.3.tar.gz (840 kB)\n",
      "\u001b[2K     \u001b[90m━━━━━━━━━━━━━━━━━━━━━━━━━━━━━━━━━━━━━━━\u001b[0m \u001b[32m840.9/840.9 kB\u001b[0m \u001b[31m8.0 MB/s\u001b[0m eta \u001b[36m0:00:00\u001b[0m00:01\u001b[0m00:01\u001b[0m\n",
      "\u001b[?25h  Preparing metadata (setup.py) ... \u001b[?25ldone\n",
      "\u001b[?25hRequirement already satisfied: contourpy>=1.0.1 in /Users/sethgerow/Library/jupyterlab-desktop/jlab_server/lib/python3.8/site-packages (from matplotlib>=3.0->pandastable) (1.1.1)\n",
      "Requirement already satisfied: cycler>=0.10 in /Users/sethgerow/Library/jupyterlab-desktop/jlab_server/lib/python3.8/site-packages (from matplotlib>=3.0->pandastable) (0.12.1)\n",
      "Requirement already satisfied: fonttools>=4.22.0 in /Users/sethgerow/Library/jupyterlab-desktop/jlab_server/lib/python3.8/site-packages (from matplotlib>=3.0->pandastable) (4.43.1)\n",
      "Requirement already satisfied: kiwisolver>=1.0.1 in /Users/sethgerow/Library/jupyterlab-desktop/jlab_server/lib/python3.8/site-packages (from matplotlib>=3.0->pandastable) (1.4.5)\n",
      "Requirement already satisfied: numpy<2,>=1.20 in /Users/sethgerow/Library/jupyterlab-desktop/jlab_server/lib/python3.8/site-packages (from matplotlib>=3.0->pandastable) (1.24.4)\n",
      "Requirement already satisfied: packaging>=20.0 in /Users/sethgerow/Library/jupyterlab-desktop/jlab_server/lib/python3.8/site-packages (from matplotlib>=3.0->pandastable) (23.2)\n",
      "Requirement already satisfied: pillow>=6.2.0 in /Users/sethgerow/Library/jupyterlab-desktop/jlab_server/lib/python3.8/site-packages (from matplotlib>=3.0->pandastable) (10.1.0)\n",
      "Requirement already satisfied: pyparsing>=2.3.1 in /Users/sethgerow/Library/jupyterlab-desktop/jlab_server/lib/python3.8/site-packages (from matplotlib>=3.0->pandastable) (3.1.1)\n",
      "Requirement already satisfied: python-dateutil>=2.7 in /Users/sethgerow/Library/jupyterlab-desktop/jlab_server/lib/python3.8/site-packages (from matplotlib>=3.0->pandastable) (2.8.2)\n",
      "Requirement already satisfied: importlib-resources>=3.2.0 in /Users/sethgerow/Library/jupyterlab-desktop/jlab_server/lib/python3.8/site-packages (from matplotlib>=3.0->pandastable) (6.1.0)\n",
      "Requirement already satisfied: pytz>=2020.1 in /Users/sethgerow/Library/jupyterlab-desktop/jlab_server/lib/python3.8/site-packages (from pandas>=1.5->pandastable) (2023.3.post1)\n",
      "Requirement already satisfied: tzdata>=2022.1 in /Users/sethgerow/Library/jupyterlab-desktop/jlab_server/lib/python3.8/site-packages (from pandas>=1.5->pandastable) (2023.3)\n",
      "Requirement already satisfied: zipp>=3.1.0 in /Users/sethgerow/Library/jupyterlab-desktop/jlab_server/lib/python3.8/site-packages (from importlib-resources>=3.2.0->matplotlib>=3.0->pandastable) (3.17.0)\n",
      "Requirement already satisfied: six>=1.5 in /Users/sethgerow/Library/jupyterlab-desktop/jlab_server/lib/python3.8/site-packages (from python-dateutil>=2.7->matplotlib>=3.0->pandastable) (1.16.0)\n",
      "Downloading numexpr-2.8.6-cp38-cp38-macosx_11_0_arm64.whl (91 kB)\n",
      "\u001b[2K   \u001b[90m━━━━━━━━━━━━━━━━━━━━━━━━━━━━━━━━━━━━━━━━\u001b[0m \u001b[32m91.5/91.5 kB\u001b[0m \u001b[31m1.4 MB/s\u001b[0m eta \u001b[36m0:00:00\u001b[0ma \u001b[36m0:00:01\u001b[0m\n",
      "\u001b[?25hBuilding wheels for collected packages: pandastable, future\n",
      "  Building wheel for pandastable (setup.py) ... \u001b[?25ldone\n",
      "\u001b[?25h  Created wheel for pandastable: filename=pandastable-0.13.1-py3-none-any.whl size=256868 sha256=c953c1bda887a2b83c26ff2945a1b56d009aa6bc2ed4a567185587af2b8647f5\n",
      "  Stored in directory: /Users/sethgerow/Library/Caches/pip/wheels/5f/e7/e9/96a325ad481dea0d96d4ba076612aa8c167d47cb8c252d6054\n",
      "  Building wheel for future (setup.py) ... \u001b[?25ldone\n",
      "\u001b[?25h  Created wheel for future: filename=future-0.18.3-py3-none-any.whl size=492024 sha256=379dd45554eda5a18e5264ff09a077aa3388e4e656d7aa3e69d930dfa0cfb115\n",
      "  Stored in directory: /Users/sethgerow/Library/Caches/pip/wheels/a0/0b/ee/e6994fadb42c1354dcccb139b0bf2795271bddfe6253ccdf11\n",
      "Successfully built pandastable future\n",
      "Installing collected packages: xlrd, numexpr, future, pandastable\n",
      "Successfully installed future-0.18.3 numexpr-2.8.6 pandastable-0.13.1 xlrd-2.0.1\n",
      "Note: you may need to restart the kernel to use updated packages.\n"
     ]
    }
   ],
   "source": [
    "pip install pandastable"
   ]
  },
  {
   "cell_type": "code",
   "execution_count": 1,
   "id": "db276866-c298-42a4-bb7b-04b59abb65a4",
   "metadata": {},
   "outputs": [
    {
     "name": "stdout",
     "output_type": "stream",
     "text": [
      "Requirement already satisfied: numexpr in /Users/sethgerow/Library/jupyterlab-desktop/jlab_server/lib/python3.8/site-packages (2.8.6)\n",
      "Requirement already satisfied: numpy>=1.13.3 in /Users/sethgerow/Library/jupyterlab-desktop/jlab_server/lib/python3.8/site-packages (from numexpr) (1.24.4)\n",
      "Note: you may need to restart the kernel to use updated packages.\n"
     ]
    }
   ],
   "source": [
    "pip install numexpr"
   ]
  },
  {
   "cell_type": "code",
   "execution_count": 3,
   "id": "8ce47695-30e5-4a94-a33f-aa64fe006140",
   "metadata": {
    "scrolled": true
   },
   "outputs": [],
   "source": [
    "import pandas as pd\n",
    "import openpyxl\n",
    "import numpy as np\n",
    "import matplotlib.pyplot as plt"
   ]
  },
  {
   "cell_type": "code",
   "execution_count": 4,
   "id": "61975727-44a4-42c2-8ac9-d1ef654ff4ea",
   "metadata": {},
   "outputs": [],
   "source": [
    "class FinData:\n",
    "    def __init__(self, name, IDnumber, date, type, data, filename):\n",
    "        self.name = name\n",
    "        self.ID = IDnumber \n",
    "        self.date = date\n",
    "        self.type = type\n",
    "        self.data = data\n",
    "        self.file = filename"
   ]
  },
  {
   "cell_type": "code",
   "execution_count": 5,
   "id": "2eea2900-bdc3-4d82-983f-f808943319b8",
   "metadata": {},
   "outputs": [],
   "source": [
    "def getdate(df):\n",
    "    time = df.Time.str.split(pat=None,n=7,expand=False,regex=None)\n",
    "    date = df.Time.get(1)\n",
    "    date = date.split(\" \")[0]\n",
    "    year = int(date[0:2])+2000\n",
    "    calendar = [\"January\", \"February\", \"March\", \"April\", \"May\", \"June\", \"July\", \"August\", \"September\", \"October\", \"November\", \"December\"]\n",
    "    month = calendar[int(date[3:4])]\n",
    "    day = date[4:6]\n",
    "    cal_date = (month + \" \" + str(day) + \", \" + str(year))\n",
    "    return date, cal_date"
   ]
  },
  {
   "cell_type": "code",
   "execution_count": 6,
   "id": "1960ba34-59f6-49d7-bb83-a154dccd9cda",
   "metadata": {},
   "outputs": [],
   "source": [
    "def normalizetime(df):\n",
    "    starttime = df.Time[1]\n",
    "    starttime = (int(starttime[0:2])*3600) + (int(starttime[3:5])*60) + (int(starttime[6:8])) + (int(starttime[9:])/1000)\n",
    "    for i in range(1,len(df)):\n",
    "        time = df.Time[i]\n",
    "        df.Time[i] = (int(time[0:2])*3600) + (int(time[3:5])*60) + (int(time[6:8])) + (int(time[9:])/1000)\n",
    "        df.Time[i] = df.Time[i]-starttime"
   ]
  },
  {
   "cell_type": "code",
   "execution_count": 7,
   "id": "6cb0ea50-bad1-4ad4-be83-a5603d8ce56c",
   "metadata": {},
   "outputs": [],
   "source": [
    "def importnewdata(filename):\n",
    "    nanvalue = float(\"NAN\")\n",
    "    df = pd.read_excel(filename)\n",
    "    df.replace(0,nanvalue,inplace=True)\n",
    "    df.dropna(axis=1, inplace=True)\n",
    "    (date, cal_date) = getdate(df)\n",
    "    df.Time = df.Time.str.removeprefix(date)\n",
    "    df.Time = df.Time.str.removeprefix(\" \")\n",
    "    normalizetime(df)\n",
    "    return df, cal_date, filename"
   ]
  },
  {
   "cell_type": "code",
   "execution_count": 8,
   "id": "8eec264e-0529-4618-b39a-03fa8bba0f05",
   "metadata": {},
   "outputs": [],
   "source": [
    "Fin1 = FinData(\"fin1\", \"1\", importnewdata(\"050721_153235_WingletFin_115fps.xlsx\")[1], \"wonky\", importnewdata(\"050721_153235_WingletFin_115fps.xlsx\")[0], importnewdata(\"050721_153235_WingletFin_115fps.xlsx\")[2])\n",
    "#open file --> check if that filename is already an attribute --> if yes read shreddata to get the data //if no open the file and create new data"
   ]
  },
  {
   "cell_type": "code",
   "execution_count": 9,
   "id": "274edebc-66b0-4cae-a833-d2b47fa1d30d",
   "metadata": {},
   "outputs": [],
   "source": [
    "#print(len(df.Time))\n",
    "#time = df.Time[1]\n",
    "#display(time)\n",
    "#(int(time[1:3])*3600) + (int(time[4:6])*60) + (int(time[7:9])) + (int(time[10:])/1000)"
   ]
  },
  {
   "cell_type": "code",
   "execution_count": 238,
   "id": "24b3a67f-f1db-4991-9b74-04e9b0cd91d3",
   "metadata": {},
   "outputs": [],
   "source": [
    "#importnewdata(\"050721_153235_WingletFin_115fps.xlsx\")\n",
    "#df = pd.read_excel(\"050721_153235_WingletFin_115fps.xlsx\")"
   ]
  },
  {
   "cell_type": "code",
   "execution_count": null,
   "id": "71c148a7-f95c-4b76-a58e-0eaee02997f0",
   "metadata": {},
   "outputs": [],
   "source": []
  }
 ],
 "metadata": {
  "kernelspec": {
   "display_name": "Python 3 (ipykernel)",
   "language": "python",
   "name": "python3"
  },
  "language_info": {
   "codemirror_mode": {
    "name": "ipython",
    "version": 3
   },
   "file_extension": ".py",
   "mimetype": "text/x-python",
   "name": "python",
   "nbconvert_exporter": "python",
   "pygments_lexer": "ipython3",
   "version": "3.8.18"
  }
 },
 "nbformat": 4,
 "nbformat_minor": 5
}
